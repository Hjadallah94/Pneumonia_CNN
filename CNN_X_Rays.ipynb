{
 "cells": [
  {
   "cell_type": "markdown",
   "id": "63c03d44",
   "metadata": {},
   "source": [
    "# CNN Model \n",
    "## Pneumonia Classification from Chest X-rays "
   ]
  },
  {
   "cell_type": "markdown",
   "id": "789a958a",
   "metadata": {},
   "source": [
    "## Data Exploration"
   ]
  },
  {
   "cell_type": "code",
   "execution_count": 32,
   "id": "4ea1962e",
   "metadata": {},
   "outputs": [],
   "source": [
    "import numpy as np\n",
    "import os\n",
    "from tensorflow.keras.preprocessing.image import load_img\n",
    "import tensorflow as tf\n",
    "from tensorflow.keras import layers\n",
    "from tensorflow.keras.preprocessing.image import ImageDataGenerator"
   ]
  },
  {
   "cell_type": "code",
   "execution_count": 2,
   "id": "9894e2c0",
   "metadata": {},
   "outputs": [],
   "source": [
    "# Define the data directories\n",
    "train_dir = 'C:/Users/hasan/Desktop/University of Liverpool/7- Deep Learning CSCK506  Jan 2023 A/Week 8/archive(1)/chest_xray/train'\n",
    "test_dir = 'C:/Users/hasan/Desktop/University of Liverpool/7- Deep Learning CSCK506  Jan 2023 A/Week 8/archive(1)/chest_xray/test'\n",
    "val_dir = 'C:/Users/hasan/Desktop/University of Liverpool/7- Deep Learning CSCK506  Jan 2023 A/Week 8/archive(1)/chest_xray/val'"
   ]
  },
  {
   "cell_type": "code",
   "execution_count": 3,
   "id": "22271cde",
   "metadata": {},
   "outputs": [],
   "source": [
    "# Define the data generators\n",
    "train_datagen = ImageDataGenerator(rescale=1./255)\n",
    "test_datagen = ImageDataGenerator(rescale=1./255)\n",
    "val_datagen = ImageDataGenerator(rescale=1./255)"
   ]
  },
  {
   "cell_type": "code",
   "execution_count": 4,
   "id": "0b8fe786",
   "metadata": {},
   "outputs": [
    {
     "name": "stdout",
     "output_type": "stream",
     "text": [
      "Found 5216 images belonging to 2 classes.\n"
     ]
    }
   ],
   "source": [
    "train_generator = train_datagen.flow_from_directory(\n",
    "        train_dir,\n",
    "        target_size=(150, 150),  # Resize the input images to 150x150 pixels\n",
    "        batch_size=32,\n",
    "        class_mode='binary')     # The problem is binary classification, so we use binary labels"
   ]
  },
  {
   "cell_type": "code",
   "execution_count": 5,
   "id": "4ac99e8e",
   "metadata": {},
   "outputs": [
    {
     "name": "stdout",
     "output_type": "stream",
     "text": [
      "Found 624 images belonging to 2 classes.\n"
     ]
    }
   ],
   "source": [
    "test_generator = test_datagen.flow_from_directory(\n",
    "        test_dir,\n",
    "        target_size=(150, 150),\n",
    "        batch_size=32,\n",
    "        class_mode='binary')"
   ]
  },
  {
   "cell_type": "code",
   "execution_count": 6,
   "id": "b94a63b6",
   "metadata": {},
   "outputs": [
    {
     "name": "stdout",
     "output_type": "stream",
     "text": [
      "Found 16 images belonging to 2 classes.\n"
     ]
    }
   ],
   "source": [
    "val_generator = val_datagen.flow_from_directory(\n",
    "        val_dir,\n",
    "        target_size=(150, 150),\n",
    "        batch_size=32,\n",
    "        class_mode='binary')"
   ]
  },
  {
   "cell_type": "code",
   "execution_count": 30,
   "id": "5aeb8b31",
   "metadata": {},
   "outputs": [],
   "source": [
    "train_normal = os.path.join(train_dir, 'NORMAL')\n",
    "train_pneumonia = os.path.join(train_dir, 'PNEUMONIA')\n",
    "test_normal = os.path.join(test_dir, 'NORMAL')\n",
    "test_pneumonia = os.path.join(test_dir, 'PNEUMONIA')\n",
    "val_normal = os.path.join(val_dir, 'NORMAL')\n",
    "val_pneumonia = os.path.join(val_dir, 'PNEUMONIA')"
   ]
  },
  {
   "cell_type": "code",
   "execution_count": 33,
   "id": "ff95291b",
   "metadata": {},
   "outputs": [
    {
     "name": "stdout",
     "output_type": "stream",
     "text": [
      "(2090, 1858)\n",
      "(1422, 1152)\n",
      "(1810, 1434)\n",
      "(1618, 1279)\n",
      "(1600, 1125)\n",
      "(1974, 1306)\n",
      "(1528, 1013)\n",
      "(1384, 1167)\n",
      "(1450, 1144)\n",
      "(1468, 993)\n",
      "(1106, 762)\n",
      "(1024, 680)\n",
      "(1128, 624)\n",
      "(904, 552)\n",
      "(880, 536)\n",
      "(952, 624)\n",
      "(1040, 696)\n",
      "(1064, 720)\n",
      "(1064, 840)\n",
      "(1032, 752)\n"
     ]
    }
   ],
   "source": [
    "# Print sizes of some images\n",
    "\n",
    "for file in os.listdir(train_normal)[:10]:\n",
    "  img = load_img(os.path.join(train_normal, file))\n",
    "  print(img.size)\n",
    "for file in os.listdir(test_pneumonia)[:10]:\n",
    "  img = load_img(os.path.join(test_pneumonia, file))\n",
    "  print(img.size)"
   ]
  },
  {
   "cell_type": "markdown",
   "id": "438dcf27",
   "metadata": {},
   "source": [
    "## Model 1\n",
    "### CNN"
   ]
  },
  {
   "cell_type": "code",
   "execution_count": 10,
   "id": "6d71978e",
   "metadata": {},
   "outputs": [],
   "source": [
    "# Define the CNN architecture\n",
    "model = tf.keras.Sequential([\n",
    "    layers.Conv2D(32, (3, 3), activation='relu', input_shape=(150, 150, 3)),  # First convolutional layer with 150 filters and a 3x3 kernel\n",
    "    layers.MaxPooling2D((2, 2)),  # Max pooling layer with a 2x2 pool size\n",
    "    \n",
    "    layers.Conv2D(64, (3, 3), activation='relu'),  # Second convolutional layer with 64 filters and a 3x3 kernel\n",
    "    layers.MaxPooling2D((2, 2)),  # Max pooling layer with a 2x2 pool size\n",
    "    \n",
    "    layers.Conv2D(128, (3, 3), activation='relu'),  # Third convolutional layer with 128 filters and a 3x3 kernel\n",
    "    layers.MaxPooling2D((2, 2)),  # Max pooling layer with a 2x2 pool size\n",
    "    \n",
    "    layers.Flatten(),  # Flatten the output from the convolutional layers to a 1D vector\n",
    "    layers.Dense(128, activation='relu'),  # Fully connected layer with 128 neurons\n",
    "    layers.Dense(1, activation='sigmoid')  # Output layer with a single neuron and a sigmoid activation function\n",
    "])"
   ]
  },
  {
   "cell_type": "code",
   "execution_count": 11,
   "id": "d16f8adf",
   "metadata": {},
   "outputs": [],
   "source": [
    "# Compile the model\n",
    "model.compile(optimizer='adam',  # Use the Adam optimizer\n",
    "              loss='binary_crossentropy',  # Use binary cross-entropy loss function\n",
    "              metrics=['accuracy'])"
   ]
  },
  {
   "cell_type": "code",
   "execution_count": 12,
   "id": "b1d5fdbb",
   "metadata": {},
   "outputs": [
    {
     "name": "stdout",
     "output_type": "stream",
     "text": [
      "Epoch 1/10\n",
      "163/163 [==============================] - 203s 1s/step - loss: 0.2095 - accuracy: 0.9143\n",
      "Epoch 2/10\n",
      "163/163 [==============================] - 192s 1s/step - loss: 0.0863 - accuracy: 0.9686\n",
      "Epoch 3/10\n",
      "163/163 [==============================] - 191s 1s/step - loss: 0.0772 - accuracy: 0.9691\n",
      "Epoch 4/10\n",
      "163/163 [==============================] - 190s 1s/step - loss: 0.0626 - accuracy: 0.9789\n",
      "Epoch 5/10\n",
      "163/163 [==============================] - 189s 1s/step - loss: 0.0487 - accuracy: 0.9839\n",
      "Epoch 6/10\n",
      "163/163 [==============================] - 190s 1s/step - loss: 0.0415 - accuracy: 0.9841\n",
      "Epoch 7/10\n",
      "163/163 [==============================] - 190s 1s/step - loss: 0.0266 - accuracy: 0.9893\n",
      "Epoch 8/10\n",
      "163/163 [==============================] - 189s 1s/step - loss: 0.0322 - accuracy: 0.9877\n",
      "Epoch 9/10\n",
      "163/163 [==============================] - 191s 1s/step - loss: 0.0328 - accuracy: 0.9873\n",
      "Epoch 10/10\n",
      "163/163 [==============================] - 192s 1s/step - loss: 0.0152 - accuracy: 0.9950\n"
     ]
    },
    {
     "data": {
      "text/plain": [
       "<keras.callbacks.History at 0x228522ec7c0>"
      ]
     },
     "execution_count": 12,
     "metadata": {},
     "output_type": "execute_result"
    }
   ],
   "source": [
    "# Train the model\n",
    "model.fit(\n",
    "      train_generator,\n",
    "      steps_per_epoch=train_generator.samples//train_generator.batch_size,\n",
    "      epochs=10,\n",
    "      validation_data=val_generator,\n",
    "      validation_steps=val_generator.samples//val_generator.batch_size)"
   ]
  },
  {
   "cell_type": "code",
   "execution_count": 13,
   "id": "f6a79237",
   "metadata": {},
   "outputs": [
    {
     "name": "stdout",
     "output_type": "stream",
     "text": [
      "20/20 - 17s - loss: 2.6868 - accuracy: 0.7324 - 17s/epoch - 830ms/step\n"
     ]
    }
   ],
   "source": [
    "# Evaluate the model on the test data\n",
    "test_loss, test_acc = model.evaluate(test_generator, verbose=2)"
   ]
  },
  {
   "cell_type": "code",
   "execution_count": 14,
   "id": "0b66e4d5",
   "metadata": {},
   "outputs": [
    {
     "name": "stdout",
     "output_type": "stream",
     "text": [
      "Test loss: 2.68679141998291\n",
      "Test accuracy: 0.7323718070983887\n"
     ]
    }
   ],
   "source": [
    "# Print the test loss and accuracy scores\n",
    "print('Test loss:', test_loss)\n",
    "print('Test accuracy:', test_acc)"
   ]
  },
  {
   "cell_type": "markdown",
   "id": "1ed3efcf",
   "metadata": {},
   "source": [
    "## Model 2\n",
    "### Hyperparameters Added"
   ]
  },
  {
   "cell_type": "code",
   "execution_count": 60,
   "id": "d3a3048a",
   "metadata": {},
   "outputs": [
    {
     "name": "stdout",
     "output_type": "stream",
     "text": [
      "Found 5216 images belonging to 2 classes.\n",
      "Found 16 images belonging to 2 classes.\n",
      "Found 624 images belonging to 2 classes.\n"
     ]
    }
   ],
   "source": [
    "from keras.preprocessing.image import ImageDataGenerator\n",
    "\n",
    "train_datagen = ImageDataGenerator(rescale=1./255, \n",
    "                                   shear_range=0.2, \n",
    "                                   zoom_range=0.2, \n",
    "                                   horizontal_flip=True)\n",
    "test_datagen = ImageDataGenerator(rescale=1./255)\n",
    "\n",
    "\n",
    "train_generator = train_datagen.flow_from_directory('C:/Users/hasan/Desktop/University of Liverpool/7- Deep Learning CSCK506  Jan 2023 A/Week 8/archive(1)/chest_xray/train',\n",
    "                                                    target_size=(256, 256),\n",
    "                                                    batch_size=32,\n",
    "                                                    class_mode='binary')\n",
    "\n",
    "val_generator = test_datagen.flow_from_directory('C:/Users/hasan/Desktop/University of Liverpool/7- Deep Learning CSCK506  Jan 2023 A/Week 8/archive(1)/chest_xray/val',\n",
    "                                                        target_size=(256, 256),\n",
    "                                                        batch_size=32,\n",
    "                                                        class_mode='binary')\n",
    "\n",
    "test_generator = test_datagen.flow_from_directory('C:/Users/hasan/Desktop/University of Liverpool/7- Deep Learning CSCK506  Jan 2023 A/Week 8/archive(1)/chest_xray/test',\n",
    "                                                        target_size=(256, 256), \n",
    "                                                        batch_size=32,\n",
    "                                                        class_mode='binary')"
   ]
  },
  {
   "cell_type": "code",
   "execution_count": 61,
   "id": "aba592b7",
   "metadata": {},
   "outputs": [],
   "source": [
    "from keras.layers import Conv2D, MaxPooling2D, Flatten, Dense, Dropout, Input, BatchNormalization\n",
    "from tensorflow.keras import Sequential\n",
    "from tensorflow.keras import layers\n",
    "import tensorflow as tf\n",
    "\n",
    "\n",
    "\n",
    "def grid_model(padding='valid',\n",
    "               strides=2,\n",
    "               activation='relu',\n",
    "               optimizer='adam',\n",
    "               dropout=0.3):\n",
    "\n",
    "    \n",
    "    # Define the CNN model\n",
    "    model = Sequential()\n",
    "    \n",
    "    model.add(Conv2D(32, (3,3), activation=activation, padding=padding, strides=strides, input_shape=(256, 256, 3)))\n",
    "    model.add(MaxPooling2D((2,2)))\n",
    "    #model.add(BatchNormalization())\n",
    "    #model.add(Dropout(dropout))\n",
    "    \n",
    "    model.add(Conv2D(64, (3,3), activation=activation, padding=padding, strides=strides))\n",
    "    model.add(MaxPooling2D((2,2)))\n",
    "    #model.add(Dropout(dropout))\n",
    "   \n",
    "    model.add(Conv2D(128, (3,3), activation=activation, padding=padding, strides=strides))\n",
    "    model.add(MaxPooling2D((2,2)))\n",
    "    #model.add(Dropout(dropout))\n",
    "    #model.add(BatchNormalization())\n",
    "    \n",
    "    model.add(Flatten())\n",
    "\n",
    "    model.add(Dense(128, activation=activation))\n",
    "    model.add(Dropout(dropout))\n",
    "    #model.add(BatchNormalization())\n",
    "    \n",
    "    model.add(Dense(1, activation='sigmoid'))\n",
    "\n",
    "    model.compile(loss='binary_crossentropy',\n",
    "                optimizer=optimizer,\n",
    "                metrics=['acc'])\n",
    "    \n",
    "    return model"
   ]
  },
  {
   "cell_type": "code",
   "execution_count": 62,
   "id": "210e538d",
   "metadata": {},
   "outputs": [
    {
     "name": "stderr",
     "output_type": "stream",
     "text": [
      "C:\\Users\\hasan\\AppData\\Local\\Temp/ipykernel_19496/1379658813.py:3: DeprecationWarning: KerasClassifier is deprecated, use Sci-Keras (https://github.com/adriangb/scikeras) instead. See https://www.adriangb.com/scikeras/stable/migration.html for help migrating.\n",
      "  estimator = KerasClassifier(build_fn=grid_model, epochs=10, batch_size=32, verbose=0)\n"
     ]
    }
   ],
   "source": [
    "from tensorflow.keras.wrappers.scikit_learn import KerasClassifier\n",
    "\n",
    "estimator = KerasClassifier(build_fn=grid_model, epochs=10, batch_size=32, verbose=0)"
   ]
  },
  {
   "cell_type": "code",
   "execution_count": 63,
   "id": "2ca6e468",
   "metadata": {},
   "outputs": [],
   "source": [
    "# Define the hyperparameters to search over\n",
    "param_grid = {\n",
    "    'padding': ['valid', 'same'],\n",
    "    'strides': [(1, 1), (2, 2)],\n",
    "    'activation': ['relu', 'tanh'],\n",
    "    'optimizer': ['adam', 'rmsprop']\n",
    "}"
   ]
  },
  {
   "cell_type": "code",
   "execution_count": 64,
   "id": "e535688d",
   "metadata": {},
   "outputs": [],
   "source": [
    "from sklearn.model_selection import GridSearchCV\n",
    "\n",
    "# Create a grid search object\n",
    "grid_search = GridSearchCV(estimator, param_grid, cv=3, n_jobs=-1, scoring='accuracy')"
   ]
  },
  {
   "cell_type": "code",
   "execution_count": 65,
   "id": "cfa944b8",
   "metadata": {},
   "outputs": [
    {
     "data": {
      "text/plain": [
       "GridSearchCV(cv=3,\n",
       "             estimator=<keras.wrappers.scikit_learn.KerasClassifier object at 0x0000022821C76FA0>,\n",
       "             n_jobs=-1,\n",
       "             param_grid={'activation': ['relu', 'tanh'],\n",
       "                         'optimizer': ['adam', 'rmsprop'],\n",
       "                         'padding': ['valid', 'same'],\n",
       "                         'strides': [(1, 1), (2, 2)]},\n",
       "             scoring='accuracy')"
      ]
     },
     "execution_count": 65,
     "metadata": {},
     "output_type": "execute_result"
    }
   ],
   "source": [
    "grid_search.fit(val_X, val_y)"
   ]
  },
  {
   "cell_type": "code",
   "execution_count": 71,
   "id": "2934c040",
   "metadata": {},
   "outputs": [
    {
     "name": "stdout",
     "output_type": "stream",
     "text": [
      "Best: 0.666667 using {'activation': 'relu', 'optimizer': 'adam', 'padding': 'same', 'strides': (1, 1)}\n"
     ]
    }
   ],
   "source": [
    "print(\"Best: %f using %s\" % (grid_search.best_score_, grid_search.best_params_))\n",
    "best_model = grid_search.best_estimator_"
   ]
  },
  {
   "cell_type": "code",
   "execution_count": 72,
   "id": "429016d5",
   "metadata": {},
   "outputs": [],
   "source": [
    "model = grid_model(padding='same', strides=(1,1),\n",
    "           activation='relu', optimizer='adam')"
   ]
  },
  {
   "cell_type": "code",
   "execution_count": 79,
   "id": "0c1a0808",
   "metadata": {},
   "outputs": [
    {
     "name": "stdout",
     "output_type": "stream",
     "text": [
      "Epoch 1/10\n",
      "163/163 [==============================] - 487s 3s/step - loss: 0.3944 - acc: 0.8345\n",
      "Epoch 2/10\n",
      "163/163 [==============================] - 460s 3s/step - loss: 0.2144 - acc: 0.9153\n",
      "Epoch 3/10\n",
      "163/163 [==============================] - 478s 3s/step - loss: 0.1915 - acc: 0.9270\n",
      "Epoch 4/10\n",
      "163/163 [==============================] - 493s 3s/step - loss: 0.1681 - acc: 0.9375\n",
      "Epoch 5/10\n",
      "163/163 [==============================] - 508s 3s/step - loss: 0.1516 - acc: 0.9433\n",
      "Epoch 6/10\n",
      "163/163 [==============================] - 488s 3s/step - loss: 0.1525 - acc: 0.9423\n",
      "Epoch 7/10\n",
      "163/163 [==============================] - 484s 3s/step - loss: 0.1407 - acc: 0.9457\n",
      "Epoch 8/10\n",
      "163/163 [==============================] - 485s 3s/step - loss: 0.1417 - acc: 0.9459\n",
      "Epoch 9/10\n",
      "163/163 [==============================] - 488s 3s/step - loss: 0.1327 - acc: 0.9528\n",
      "Epoch 10/10\n",
      "163/163 [==============================] - 501s 3s/step - loss: 0.1196 - acc: 0.9567\n"
     ]
    },
    {
     "data": {
      "text/plain": [
       "<keras.callbacks.History at 0x228263bd280>"
      ]
     },
     "execution_count": 79,
     "metadata": {},
     "output_type": "execute_result"
    }
   ],
   "source": [
    "#history = model.fit(train_X, train_y,\n",
    "                      #steps_per_epoch=train_X.shape[0] // 12,\n",
    " #                   steps_per_epoch=train_generator.samples//train_generator.batch_size\n",
    "  #                    batch_size=32,\n",
    "   #                   epochs=10)\n",
    "\n",
    "# Train the model\n",
    "model.fit(\n",
    "      train_generator,\n",
    "      steps_per_epoch=train_generator.samples//train_generator.batch_size,\n",
    "      epochs=10,\n",
    "      validation_data=val_generator,\n",
    "      validation_steps=val_generator.samples//val_generator.batch_size)"
   ]
  },
  {
   "cell_type": "code",
   "execution_count": 82,
   "id": "d15de259",
   "metadata": {},
   "outputs": [
    {
     "name": "stdout",
     "output_type": "stream",
     "text": [
      "20/20 - 21s - loss: 0.4997 - acc: 0.9054 - 21s/epoch - 1s/step\n",
      "Test loss: 0.4997\n",
      "Test accuracy: 0.9054\n"
     ]
    }
   ],
   "source": [
    "test_loss, test_acc = model.evaluate(test_generator, verbose=2)\n",
    "\n",
    "# Print the test loss and accuracy\n",
    "print(f'Test loss: {test_loss:.4f}')\n",
    "print(f'Test accuracy: {test_acc:.4f}')"
   ]
  },
  {
   "cell_type": "code",
   "execution_count": null,
   "id": "42586cc9",
   "metadata": {},
   "outputs": [],
   "source": []
  }
 ],
 "metadata": {
  "kernelspec": {
   "display_name": "Python 3 (ipykernel)",
   "language": "python",
   "name": "python3"
  },
  "language_info": {
   "codemirror_mode": {
    "name": "ipython",
    "version": 3
   },
   "file_extension": ".py",
   "mimetype": "text/x-python",
   "name": "python",
   "nbconvert_exporter": "python",
   "pygments_lexer": "ipython3",
   "version": "3.9.7"
  }
 },
 "nbformat": 4,
 "nbformat_minor": 5
}
